{
 "cells": [
  {
   "cell_type": "code",
   "execution_count": 1,
   "metadata": {},
   "outputs": [],
   "source": [
    "import pandas as pd\n",
    "import matplotlib.pyplot as plt"
   ]
  },
  {
   "cell_type": "code",
   "execution_count": 2,
   "metadata": {},
   "outputs": [],
   "source": [
    "accountDF = pd.read_csv(\"Data/account.csv\")\n",
    "#accountDF"
   ]
  },
  {
   "cell_type": "code",
   "execution_count": 105,
   "metadata": {},
   "outputs": [],
   "source": [
    "uniqueName = pd.DataFrame({\"Name\":accountDF.name.unique()})\n",
    "#uniqueName.index.name = \"Index\"\n",
    "#uniqueName"
   ]
  },
  {
   "cell_type": "code",
   "execution_count": 106,
   "metadata": {},
   "outputs": [],
   "source": [
    "uniqueCategory = pd.DataFrame({\"Category\":accountDF.category.unique()})\n",
    "#uniqueCategory"
   ]
  },
  {
   "cell_type": "code",
   "execution_count": 60,
   "metadata": {},
   "outputs": [],
   "source": [
    "isInfocarollPLC = (accountDF[\"name\"] == \"Carroll PLC\")\n",
    "infocarollPLC = accountDF[isInfocarollPLC]\n",
    "#infocarollPLC"
   ]
  },
  {
   "cell_type": "code",
   "execution_count": 62,
   "metadata": {},
   "outputs": [],
   "source": [
    "isBussinessBelt = (accountDF[\"category\"] == \"Belt\")\n",
    "bussinessInBelt = accountDF[isInfocarollPLC & isBussinessBelt]\n",
    "#bussinessInBelt"
   ]
  },
  {
   "cell_type": "code",
   "execution_count": 109,
   "metadata": {},
   "outputs": [],
   "source": [
    "saleByComapny = accountDF[[\"name\", \"ext price\"]].groupby(\"name\")\n",
    "#accountDF[[\"name\", \"ext price\"]]\n",
    "#saleByComapny.sum().rename(columns={\"ext price\":\"sum\"})\n",
    "#pd.DataFrame(saleByComapny.sum().rename(columns={\"ext price\":\"sum\"}))"
   ]
  },
  {
   "cell_type": "code",
   "execution_count": 104,
   "metadata": {},
   "outputs": [],
   "source": [
    "bussCategoryCount = accountDF.groupby([\"name\", \"category\", \"sku\"])\n",
    "withSize = pd.DataFrame({\"quantity\" :bussCategoryCount.size()})\n",
    "withoutSize = pd.DataFrame({\"Quantity\" : bussCategoryCount[\"sku\"].count()})\n",
    "#withSize\n",
    "#withoutSize"
   ]
  },
  {
   "cell_type": "code",
   "execution_count": 7,
   "metadata": {},
   "outputs": [],
   "source": [
    "quantitySold = accountDF[[\"name\", \"quantity\"]].groupby(\"name\")\n",
    "#quantitySold[\"quantity\"].sum()\n",
    "#pd.DataFrame({\"Quantity Sold\":quantitySold[\"quantity\"].sum()})"
   ]
  },
  {
   "cell_type": "code",
   "execution_count": 14,
   "metadata": {},
   "outputs": [],
   "source": [
    "totalSaleCount = accountDF[[\"name\"]].groupby(\"name\")[\"name\"].count()\n",
    "#totalSaleCount\n",
    "#pd.DataFrame({\"total sale count\":totalSaleCount})"
   ]
  },
  {
   "cell_type": "code",
   "execution_count": 5,
   "metadata": {},
   "outputs": [],
   "source": [
    "salePerProductPerComapny = accountDF[[\"name\", \"category\", \"ext price\"]].groupby([\"name\", \"category\"])[\"ext price\"].sum()\n",
    "#salePerProductPerComapny\n",
    "sales = pd.DataFrame({\"sale per category\": salePerProductPerComapny})\n",
    "#sales.unstack()\n",
    "#sales.unstack().plot(kind='bar', stacked = True)\n",
    "#fig = plt.gcf()\n",
    "#fig.set_size_inches(15, 10, forward=True)\n",
    "#plt.show()"
   ]
  },
  {
   "cell_type": "code",
   "execution_count": 12,
   "metadata": {},
   "outputs": [],
   "source": [
    "maxSale = accountDF[[\"name\", \"ext price\"]].groupby(\"name\")[\"ext price\"].sum()\n",
    "totalSalesList = pd.DataFrame({\"total\":maxSale})\n",
    "maxList = totalSalesList[\"total\"] == maxSale.max()\n",
    "#totalSalesList[maxList]"
   ]
  },
  {
   "cell_type": "code",
   "execution_count": 156,
   "metadata": {},
   "outputs": [],
   "source": [
    "#human_df.groupBy(\"sex\").agg(avg(\"age\").alias(\"avg_age\"))"
   ]
  },
  {
   "cell_type": "code",
   "execution_count": 166,
   "metadata": {},
   "outputs": [],
   "source": [
    "separted = accountDF[\"sku\"].str.split(\"-\")\n",
    "firstName = separted.str[0]\n",
    "lastName = separted.str[1]\n",
    "#firstName+\"-\"+lastName"
   ]
  },
  {
   "cell_type": "code",
   "execution_count": 6,
   "metadata": {},
   "outputs": [],
   "source": [
    "#accountDF.groupby(\"name\")[\"ext price\"].mean()"
   ]
  },
  {
   "cell_type": "code",
   "execution_count": null,
   "metadata": {},
   "outputs": [],
   "source": []
  }
 ],
 "metadata": {
  "kernelspec": {
   "display_name": "Python 3",
   "language": "python",
   "name": "python3"
  },
  "language_info": {
   "codemirror_mode": {
    "name": "ipython",
    "version": 3
   },
   "file_extension": ".py",
   "mimetype": "text/x-python",
   "name": "python",
   "nbconvert_exporter": "python",
   "pygments_lexer": "ipython3",
   "version": "3.6.5"
  }
 },
 "nbformat": 4,
 "nbformat_minor": 2
}
